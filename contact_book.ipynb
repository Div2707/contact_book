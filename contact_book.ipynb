{
 "cells": [
  {
   "cell_type": "code",
   "execution_count": 1,
   "id": "abe5a7fb",
   "metadata": {},
   "outputs": [],
   "source": [
    "#-------------Contact Book Management-------------\n",
    "#-------------Create Contact----------------------\n",
    "def create():\n",
    "    while 1:\n",
    "        print(\"-------------Create Contact----------------------\")\n",
    "        name=input(\"Enter Name or press 0 for exit:\").lower()\n",
    "        if name=='0':\n",
    "            break\n",
    "        if name not in d:\n",
    "            mob=input(\"Enter Mobile Number or press 0 for exit:\")\n",
    "            if mob=='0':\n",
    "                break\n",
    "            if mob not in list(d.values()):\n",
    "                d.update({name:mob})\n",
    "                print(\"Successfully added new contact\")\n",
    "                break\n",
    "            else:\n",
    "                print('''This Mobile Number already exists''')\n",
    "                print(\"With this Name:\",list(d.keys())[list(d.values()).index(mob)])\n",
    "                c=input('''Press for\n",
    "(1)Update Contact\n",
    "(2)Exit\n",
    "''')\n",
    "                if c==\"1\":\n",
    "                    update()\n",
    "                else:\n",
    "                    pass\n",
    "        else:\n",
    "            print('''Contact already exists''')"
   ]
  },
  {
   "cell_type": "code",
   "execution_count": 2,
   "id": "cd1f02a9",
   "metadata": {},
   "outputs": [],
   "source": [
    "#--------------Search Contact------------------------\n",
    "def read():\n",
    "    print(\"--------------Search Contact------------------------\")\n",
    "    r=input(\"Enter Contact Name or Contact Number:\")\n",
    "    if r.isdigit():\n",
    "        if r in list(d.values()):\n",
    "            n= list(d.keys())[list(d.values()).index(r)]\n",
    "            print(\"Contact Name:\",n)\n",
    "            print(\"Contact Numer:\",r)\n",
    "            return n\n",
    "        else:\n",
    "            print(\"Number not in Contact.\")\n",
    "            return 0\n",
    "    else:\n",
    "        if r in d:\n",
    "            print(r)\n",
    "            print(d[r])\n",
    "            return r\n",
    "        else:\n",
    "            print('''Contact doesn't Exists''')\n",
    "            return 0"
   ]
  },
  {
   "cell_type": "code",
   "execution_count": 3,
   "id": "aef2f2ba",
   "metadata": {},
   "outputs": [],
   "source": [
    "#-------------Update Contact------------------------\n",
    "def update():\n",
    "    print(\"-------------Update Contact------------------------\")\n",
    "    v=read()\n",
    "    if v==0:\n",
    "        return\n",
    "    else:\n",
    "        n=input(\"Enter new Contact Name or Contact Numer:\")\n",
    "        if n.isdigit():\n",
    "            d[v]=n\n",
    "            print(\"Contact Updated Sucessfully\")\n",
    "        else:\n",
    "            x=d.pop(v)\n",
    "            print(x)\n",
    "            d.update({n:x})\n",
    "            print(\"Contact Updated Sucessfully\")"
   ]
  },
  {
   "cell_type": "code",
   "execution_count": 4,
   "id": "a568587e",
   "metadata": {},
   "outputs": [],
   "source": [
    "#-------------Delete Contact------------------------\n",
    "def delete():\n",
    "    print(\"-------------Delete Contact------------------------\") \n",
    "    v=read()\n",
    "    if v==0:\n",
    "        return\n",
    "    else:\n",
    "        d.pop(v)\n",
    "        print(\"Deleted Sucessfully\")"
   ]
  },
  {
   "cell_type": "code",
   "execution_count": 5,
   "id": "36537c35",
   "metadata": {},
   "outputs": [
    {
     "name": "stdout",
     "output_type": "stream",
     "text": [
      "-------------Welcome Contact Book Management -------------\n",
      "Choose one option\n",
      "    (1) New Contact\n",
      "    (2) Search Contact \n",
      "    (3) Update Contact\n",
      "    (4) Delete Contact\n",
      "    (5) Exit\n",
      "    1\n",
      "-------------Create Contact----------------------\n",
      "Enter Name or press 0 for exit:0\n",
      "Choose one option\n",
      "    (1) New Contact\n",
      "    (2) Search Contact \n",
      "    (3) Update Contact\n",
      "    (4) Delete Contact\n",
      "    (5) Exit\n",
      "    5\n"
     ]
    }
   ],
   "source": [
    "#--------------Main Code---------------------------\n",
    "print(\"-------------Welcome Contact Book Management -------------\")\n",
    "d={}\n",
    "while 1:\n",
    "    b=(input('''Choose one option\n",
    "    (1) New Contact\n",
    "    (2) Search Contact \n",
    "    (3) Update Contact\n",
    "    (4) Delete Contact\n",
    "    (5) Exit\n",
    "    '''))\n",
    "    if b==\"1\":\n",
    "        create()\n",
    "    elif b==\"2\":\n",
    "         read()\n",
    "    elif b==\"3\":\n",
    "        update()\n",
    "    elif b==\"4\":\n",
    "        delete()\n",
    "    elif b==\"5\":\n",
    "        break\n",
    "    else:\n",
    "        print('''You Choose Incorrect Option\n",
    "        Please Choose Correct One''')"
   ]
  },
  {
   "cell_type": "code",
   "execution_count": null,
   "id": "3b4977cd",
   "metadata": {},
   "outputs": [],
   "source": []
  }
 ],
 "metadata": {
  "kernelspec": {
   "display_name": "Python 3 (ipykernel)",
   "language": "python",
   "name": "python3"
  },
  "language_info": {
   "codemirror_mode": {
    "name": "ipython",
    "version": 3
   },
   "file_extension": ".py",
   "mimetype": "text/x-python",
   "name": "python",
   "nbconvert_exporter": "python",
   "pygments_lexer": "ipython3",
   "version": "3.11.2"
  }
 },
 "nbformat": 4,
 "nbformat_minor": 5
}
